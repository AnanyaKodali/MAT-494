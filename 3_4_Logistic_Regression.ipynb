{
  "nbformat": 4,
  "nbformat_minor": 0,
  "metadata": {
    "colab": {
      "provenance": [],
      "authorship_tag": "ABX9TyORQRVRtoVYUYObe6nko2Jh",
      "include_colab_link": true
    },
    "kernelspec": {
      "name": "python3",
      "display_name": "Python 3"
    },
    "language_info": {
      "name": "python"
    }
  },
  "cells": [
    {
      "cell_type": "markdown",
      "metadata": {
        "id": "view-in-github",
        "colab_type": "text"
      },
      "source": [
        "<a href=\"https://colab.research.google.com/github/AnanyaKodali/MAT-494/blob/main/3_4_Logistic_Regression.ipynb\" target=\"_parent\"><img src=\"https://colab.research.google.com/assets/colab-badge.svg\" alt=\"Open In Colab\"/></a>"
      ]
    },
    {
      "cell_type": "markdown",
      "source": [
        "##**3.4.1 Logistic Regression**"
      ],
      "metadata": {
        "id": "onYyLsRtCMzk"
      }
    },
    {
      "cell_type": "markdown",
      "source": [
        "**Definition 3.4.1**\n",
        "\n",
        "Logistic Regression is a statistical method for modeling the probability of a binary dependent variable based on one or more independent variables. Unlike linear regression, which outputs continuous values, logistic regression uses the logistic (sigmoid) function to map predictions to probabilities between 0 and 1. This makes it ideal for classification tasks where the goal is to assign instances to discrete classes.\n",
        "\n",
        "Formally, logistic regression models the probability $p$ of the dependent variable $y=1$ as:\n",
        "* $p = \\sigma(\\mathbf{\\alpha}^T \\mathbf{x}) = \\frac{1}{1 + e^{-\\mathbf{\\alpha}^T \\mathbf{x}}}$\n",
        "\n",
        "Where,\n",
        "* $\\mathbf{x} \\in \\mathbb{R}^d$ is the feature vector\n",
        "* $\\mathbf{\\alpha} \\in \\mathbb{R}^d$ are the model coeffecients\n",
        "* $\\sigma(t)$ is the sigmoid function\n",
        "\n",
        "Logistic regression can be extended to multiclass classification using Softmax Regression, which generalizes the logistic function to handle multiple classes.\n"
      ],
      "metadata": {
        "id": "gqjiK9hTCU6o"
      }
    },
    {
      "cell_type": "markdown",
      "source": [
        "**Example 3.4.1: Centralized Dataset**\n",
        "\n",
        "For practical implementations across all subsections, we will analyze and implement logistic regression on the following datasets:\n",
        "1. Synthetic Data: Generated for binary classification to illustrate fundamental concepts.\n",
        "2. MNIST Digits: A well-known dataset for multiclass classification tasks.\n",
        "3. Insurance Dataset: An example of real-world data for binary classification"
      ],
      "metadata": {
        "id": "FVRgSdN5C3rz"
      }
    },
    {
      "cell_type": "markdown",
      "source": [
        "**Definition 3.4.2**\n",
        "\n",
        "*Logistic Function*\n",
        "\n",
        "The logistic function models the relationship between the input features and the probability of the binary outcome. It is defined as:\n",
        "* $\\log\\left(\\frac{p}{1 - p}\\right) = \\mathbf{\\alpha}^T \\mathbf{x}$\n",
        "\n",
        "Where,\n",
        "* $p$ is the probability of $y = 1$ given input $\\mathbf{x}$\n",
        "* $\\mathbf{\\alpha}$ are the coefficients of the model"
      ],
      "metadata": {
        "id": "IYrTNzvVDXz5"
      }
    },
    {
      "cell_type": "markdown",
      "source": [
        "**Definition 3.4.3**\n",
        "\n",
        "*Sigmoid Function*\n",
        "\n",
        "The sigmoid function transforms the linear combination of inputs into a probability between 0 and 1:\n",
        "* $\\sigma(t) = \\frac{1}{1 + e^{-t}}$\n",
        "\n",
        "*Properties*\n",
        "1. Range: $(0, 1)$\n",
        "2. S-shape: Smooth and differentiable.\n",
        "3. Monotonic: Strictly increasing\n",
        "\n",
        "The sigmoid function ensures that the output of logistic regression is interpretable as a probability."
      ],
      "metadata": {
        "id": "Qimmcq9YD4Sr"
      }
    },
    {
      "cell_type": "code",
      "source": [
        "# Visualization of Sigmoid Function\n",
        "\n",
        "import numpy as np\n",
        "import matplotlib.pyplot as plt\n",
        "\n",
        "def sigmoid_plot(t):\n",
        "    return 1 / (1 + np.exp(-t))\n",
        "\n",
        "# Define range of t values\n",
        "t_vals = np.linspace(-10, 10, 400)\n",
        "sigmoid_vals = sigmoid_plot(t_vals)\n",
        "\n",
        "plt.figure(figsize=(8, 6))\n",
        "plt.plot(t_vals, sigmoid_vals, color='blue')\n",
        "plt.title(\"Sigmoid Function\")\n",
        "plt.xlabel(\"t\")\n",
        "plt.ylabel(\"σ(t)\")\n",
        "plt.grid(True)\n",
        "plt.show()"
      ],
      "metadata": {
        "colab": {
          "base_uri": "https://localhost:8080/",
          "height": 564
        },
        "id": "RZdNx7pPLMDh",
        "outputId": "9e6aa375-997d-43cb-856a-aa770804459c"
      },
      "execution_count": 11,
      "outputs": [
        {
          "output_type": "display_data",
          "data": {
            "text/plain": [
              "<Figure size 800x600 with 1 Axes>"
            ],
            "image/png": "[encoded data removed]"
          },
          "metadata": {}
        }
      ]
    },
    {
      "cell_type": "markdown",
      "source": [
        "**Definition 3.4.4**\n",
        "\n",
        "*Cross-Entropy Loss*\n",
        "\n",
        "The cross-entropy loss measures the performance of a classification model whose output is a probability between 0 and 1. It quantifies the difference between the true labels and the predicted probabilities.\n",
        "\n",
        "For binary classification, the cross-entropy loss $L(α)$ is defined as:\n",
        "* $L(\\mathbf{\\alpha}) = -\\frac{1}{n} \\sum_{i=1}^{n} \\left[ y_i \\log(p_i) + (1 - y_i) \\log(1 - p_i) \\right]$\n",
        "\n",
        "Where,\n",
        "* $n$ is the number of samples\n",
        "* $y_i \\in \\{0, 1\\}$ is the true label\n",
        "* $p_i$ is the predicted probability $p_i = \\sigma(\\mathbf{\\alpha}^T \\mathbf{x}_i)$\n",
        "\n",
        "Minimizing the cross-entropy loss aligns the predicted probabilities with the true labels.\n",
        "\n",
        "\n",
        "\n"
      ],
      "metadata": {
        "id": "iAYQzAB2EP5d"
      }
    },
    {
      "cell_type": "markdown",
      "source": [
        "## Gradient Descent for Optimization"
      ],
      "metadata": {
        "id": "Ze3FKp9SFBV5"
      }
    },
    {
      "cell_type": "markdown",
      "source": [
        "**Definition 3.4.5**\n",
        "\n",
        "Gradient Descent is an iterative optimization algorithm used to minimize the loss function by updating the model coefficients in the direction of the steepest descent.\n",
        "\n",
        "Update Rule: $\\mathbf{\\alpha}_{t+1} = \\mathbf{\\alpha}_t - \\eta \\nabla L(\\mathbf{\\alpha}_t)$\n",
        "\n",
        "Where,\n",
        "* $\\mathbf{\\alpha}_t$ are the coefficients at iteration $t$\n",
        "* $\\eta$ is the learning rate\n",
        "* $\\nabla L(\\mathbf{\\alpha}_t)$ is the gradient of the loss function with respect to $\\mathbf{\\alpha}$ at iteration $t$"
      ],
      "metadata": {
        "id": "FxPaAK1EFFuF"
      }
    },
    {
      "cell_type": "markdown",
      "source": [
        "**Mathematical Intuition 3.4.6**\n",
        "\n",
        "*Gradient Calculation*\n",
        "\n",
        "For logistic regression, the gradient of the cross-entropy loss with respect to $\\mathbf{\\alpha}$ is:\n",
        "* $\\nabla L(\\mathbf{\\alpha}) = \\frac{1}{n} \\sum_{i=1}^{n} (p_i - y_i) \\mathbf{x}_i$\n",
        "\n",
        "Updating the coefficients using gradient descent iteratively reduces the loss, guiding the model towards optimal parameters.\n"
      ],
      "metadata": {
        "id": "vpSvi7maFup1"
      }
    },
    {
      "cell_type": "markdown",
      "source": [
        "**Example 3.4.2: Logistic Regression with Scikit-Learn**\n",
        "\n",
        "Objective: Implement  logistic regression using Scikit-Learn,  as a baseline to understand the algorithm's functionality and performance."
      ],
      "metadata": {
        "id": "ny-BAwTJGDZb"
      }
    },
    {
      "cell_type": "code",
      "source": [
        "# Logistic Regression using Scikit-Learn\n",
        "\n",
        "import numpy as np\n",
        "import matplotlib.pyplot as plt\n",
        "from sklearn.linear_model import LogisticRegression\n",
        "from sklearn.metrics import classification_report, confusion_matrix\n",
        "\n",
        "# Centralized Dataset: Binary classification example\n",
        "# Generating synthetic data\n",
        "np.random.seed(0)\n",
        "x = np.linspace(0, 10, 100).reshape(-1, 1)\n",
        "y = (x.flatten() > 5).astype(int)  # Labels: 0 if x <= 5, 1 if x > 5\n",
        "\n",
        "# Create Logistic Regression model\n",
        "model = LogisticRegression(solver='liblinear', random_state=0)\n",
        "model.fit(x, y)\n",
        "\n",
        "# Predictions and probabilities\n",
        "predicted_classes = model.predict(x)\n",
        "predicted_probs = model.predict_proba(x)\n",
        "\n",
        "# Accuracy\n",
        "accuracy = model.score(x, y)\n",
        "\n",
        "# Print results\n",
        "print(\"Intercept:\", model.intercept_)\n",
        "print(\"Coefficient:\", model.coef_)\n",
        "print(\"Predicted classes:\", predicted_classes)\n",
        "print(\"Predicted probabilities:\\n\", predicted_probs)\n",
        "print(\"Accuracy:\", accuracy)\n",
        "\n",
        "# Confusion matrix\n",
        "cm = confusion_matrix(y, predicted_classes)\n",
        "plt.figure(figsize=(6, 4))\n",
        "plt.matshow(cm, cmap='coolwarm', fignum=1)\n",
        "plt.title(\"Confusion Matrix\")\n",
        "plt.colorbar()\n",
        "plt.xlabel(\"Predicted\")\n",
        "plt.ylabel(\"Actual\")\n",
        "plt.show()"
      ],
      "metadata": {
        "colab": {
          "base_uri": "https://localhost:8080/",
          "height": 1000
        },
        "id": "7neWTz40GUsM",
        "outputId": "aa261bee-952e-4582-ed27-9ebfe51d6dc4"
      },
      "execution_count": 1,
      "outputs": [
        {
          "output_type": "stream",
          "name": "stdout",
          "text": [
            "Intercept: [-3.96861054]\n",
            "Coefficient: [[0.8648844]]\n",
            "Predicted classes: [0 0 0 0 0 0 0 0 0 0 0 0 0 0 0 0 0 0 0 0 0 0 0 0 0 0 0 0 0 0 0 0 0 0 0 0 0\n",
            " 0 0 0 0 0 0 0 0 0 1 1 1 1 1 1 1 1 1 1 1 1 1 1 1 1 1 1 1 1 1 1 1 1 1 1 1 1\n",
            " 1 1 1 1 1 1 1 1 1 1 1 1 1 1 1 1 1 1 1 1 1 1 1 1 1 1]\n",
            "Predicted probabilities:\n",
            " [[0.9814509  0.0185491 ]\n",
            " [0.97979174 0.02020826]\n",
            " [0.9779875  0.0220125 ]\n",
            " [0.97602612 0.02397388]\n",
            " [0.97389464 0.02610536]\n",
            " [0.97157916 0.02842084]\n",
            " [0.96906484 0.03093516]\n",
            " [0.96633579 0.03366421]\n",
            " [0.96337508 0.03662492]\n",
            " [0.96016472 0.03983528]\n",
            " [0.95668561 0.04331439]\n",
            " [0.95291754 0.04708246]\n",
            " [0.9488392  0.0511608 ]\n",
            " [0.9444282  0.0555718 ]\n",
            " [0.93966107 0.06033893]\n",
            " [0.93451335 0.06548665]\n",
            " [0.92895967 0.07104033]\n",
            " [0.92297382 0.07702618]\n",
            " [0.91652892 0.08347108]\n",
            " [0.90959759 0.09040241]\n",
            " [0.90215214 0.09784786]\n",
            " [0.89416483 0.10583517]\n",
            " [0.8856082  0.1143918 ]\n",
            " [0.87645535 0.12354465]\n",
            " [0.86668041 0.13331959]\n",
            " [0.8562589  0.1437411 ]\n",
            " [0.84516829 0.15483171]\n",
            " [0.83338846 0.16661154]\n",
            " [0.82090233 0.17909767]\n",
            " [0.80769638 0.19230362]\n",
            " [0.79376133 0.20623867]\n",
            " [0.77909266 0.22090734]\n",
            " [0.76369129 0.23630871]\n",
            " [0.74756407 0.25243593]\n",
            " [0.7307243  0.2692757 ]\n",
            " [0.71319215 0.28680785]\n",
            " [0.69499497 0.30500503]\n",
            " [0.67616747 0.32383253]\n",
            " [0.65675177 0.34324823]\n",
            " [0.63679726 0.36320274]\n",
            " [0.61636035 0.38363965]\n",
            " [0.59550395 0.40449605]\n",
            " [0.57429681 0.42570319]\n",
            " [0.55281275 0.44718725]\n",
            " [0.53112965 0.46887035]\n",
            " [0.50932837 0.49067163]\n",
            " [0.48749154 0.51250846]\n",
            " [0.46570236 0.53429764]\n",
            " [0.44404329 0.55595671]\n",
            " [0.4225948  0.5774052 ]\n",
            " [0.40143428 0.59856572]\n",
            " [0.38063483 0.61936517]\n",
            " [0.36026443 0.63973557]\n",
            " [0.34038507 0.65961493]\n",
            " [0.32105215 0.67894785]\n",
            " [0.30231402 0.69768598]\n",
            " [0.28421174 0.71578826]\n",
            " [0.26677892 0.73322108]\n",
            " [0.25004187 0.74995813]\n",
            " [0.23401972 0.76598028]\n",
            " [0.2187248  0.7812752 ]\n",
            " [0.20416308 0.79583692]\n",
            " [0.19033464 0.80966536]\n",
            " [0.17723424 0.82276576]\n",
            " [0.16485193 0.83514807]\n",
            " [0.15317365 0.84682635]\n",
            " [0.14218182 0.85781818]\n",
            " [0.13185596 0.86814404]\n",
            " [0.1221732  0.8778268 ]\n",
            " [0.11310885 0.88689115]\n",
            " [0.10463684 0.89536316]\n",
            " [0.09673019 0.90326981]\n",
            " [0.08936135 0.91063865]\n",
            " [0.0825026  0.9174974 ]\n",
            " [0.07612627 0.92387373]\n",
            " [0.07020504 0.92979496]\n",
            " [0.06471211 0.93528789]\n",
            " [0.05962139 0.94037861]\n",
            " [0.05490764 0.94509236]\n",
            " [0.05054653 0.94945347]\n",
            " [0.04651476 0.95348524]\n",
            " [0.04279008 0.95720992]\n",
            " [0.03935135 0.96064865]\n",
            " [0.03617852 0.96382148]\n",
            " [0.03325265 0.96674735]\n",
            " [0.03055591 0.96944409]\n",
            " [0.02807152 0.97192848]\n",
            " [0.02578375 0.97421625]\n",
            " [0.02367789 0.97632211]\n",
            " [0.02174019 0.97825981]\n",
            " [0.01995781 0.98004219]\n",
            " [0.01831883 0.98168117]\n",
            " [0.01681214 0.98318786]\n",
            " [0.01542742 0.98457258]\n",
            " [0.01415511 0.98584489]\n",
            " [0.01298635 0.98701365]\n",
            " [0.01191292 0.98808708]\n",
            " [0.01092724 0.98907276]\n",
            " [0.01002228 0.98997772]\n",
            " [0.00919158 0.99080842]]\n",
            "Accuracy: 0.96\n"
          ]
        },
        {
          "output_type": "display_data",
          "data": {
            "text/plain": [
              "<Figure size 600x400 with 2 Axes>"
            ],
            "image/png": "[encoded data removed]"
          },
          "metadata": {}
        }
      ]
    },
    {
      "cell_type": "markdown",
      "source": [
        "*Code Analysis*\n",
        "\n",
        "1. Data Generation: A synthetic dataset is created with 100 samples where $𝑥$ ranges from 0 to 10. Labels $𝑦$ are assigned based on whether\n",
        "$𝑥$ is greater than 5.\n",
        "2. Model Training: A LogisticRegression model is instantiated with the liblinear solver suitable for small datasets. The model is trained using the .fit() method.\n",
        "3. Predictions: The trained model predicts class labels and probabilities for each sample. The overall accuracy is computed.\n",
        "4. Results: The intercept and coefficients of the model are printed. The confusion matrix visualizes the model's performance."
      ],
      "metadata": {
        "id": "JsBmwhD8GaR3"
      }
    },
    {
      "cell_type": "markdown",
      "source": [
        "**Example 3.4.3: Logistic Regression on MNIST Digits**\n",
        "\n",
        "Objective: Applying  logistic regression to the MNIST digits dataset, a classic multiclass classification problem."
      ],
      "metadata": {
        "id": "x7tG3WXdHFvv"
      }
    },
    {
      "cell_type": "code",
      "source": [
        "# Logistic Regression on MNIST Digits\n",
        "\n",
        "from sklearn.datasets import load_digits\n",
        "from sklearn.model_selection import train_test_split\n",
        "from sklearn.linear_model import LogisticRegression\n",
        "from sklearn.metrics import classification_report, confusion_matrix\n",
        "import matplotlib.pyplot as plt\n",
        "\n",
        "# Load dataset\n",
        "digits = load_digits()\n",
        "x_train, x_test, y_train, y_test = train_test_split(digits.data, digits.target, test_size=0.2, random_state=42)\n",
        "\n",
        "# Train Logistic Regression for multiclass classification\n",
        "logisticRegr = LogisticRegression(max_iter=1000, solver='lbfgs', multi_class='multinomial')\n",
        "logisticRegr.fit(x_train, y_train)\n",
        "\n",
        "# Predictions and performance\n",
        "y_pred = logisticRegr.predict(x_test)\n",
        "accuracy = logisticRegr.score(x_test, y_test)\n",
        "\n",
        "print(\"Accuracy on MNIST test set:\", accuracy)\n",
        "print(\"\\nClassification Report:\\n\", classification_report(y_test, y_pred))\n",
        "\n",
        "# Confusion matrix\n",
        "cm = confusion_matrix(y_test, y_pred)\n",
        "plt.figure(figsize=(8, 6))\n",
        "plt.matshow(cm, cmap='coolwarm', fignum=1)\n",
        "plt.title(\"Confusion Matrix for MNIST Digits\")\n",
        "plt.colorbar()\n",
        "plt.xlabel(\"Predicted\")\n",
        "plt.ylabel(\"Actual\")\n",
        "plt.show()"
      ],
      "metadata": {
        "colab": {
          "base_uri": "https://localhost:8080/",
          "height": 990
        },
        "id": "GQ2vz3tlHQTz",
        "outputId": "990edc82-4d58-4901-eac6-34806c4246c8"
      },
      "execution_count": 2,
      "outputs": [
        {
          "output_type": "stream",
          "name": "stderr",
          "text": [
            "/usr/local/lib/python3.10/dist-packages/sklearn/linear_model/_logistic.py:1247: FutureWarning: 'multi_class' was deprecated in version 1.5 and will be removed in 1.7. From then on, it will always use 'multinomial'. Leave it to its default value to avoid this warning.\n",
            "  warnings.warn(\n"
          ]
        },
        {
          "output_type": "stream",
          "name": "stdout",
          "text": [
            "Accuracy on MNIST test set: 0.975\n",
            "\n",
            "Classification Report:\n",
            "               precision    recall  f1-score   support\n",
            "\n",
            "           0       1.00      1.00      1.00        33\n",
            "           1       0.97      1.00      0.98        28\n",
            "           2       1.00      1.00      1.00        33\n",
            "           3       0.97      0.97      0.97        34\n",
            "           4       1.00      0.98      0.99        46\n",
            "           5       0.92      0.96      0.94        47\n",
            "           6       0.97      0.97      0.97        35\n",
            "           7       1.00      0.97      0.99        34\n",
            "           8       0.97      0.97      0.97        30\n",
            "           9       0.97      0.95      0.96        40\n",
            "\n",
            "    accuracy                           0.97       360\n",
            "   macro avg       0.98      0.98      0.98       360\n",
            "weighted avg       0.98      0.97      0.98       360\n",
            "\n"
          ]
        },
        {
          "output_type": "display_data",
          "data": {
            "text/plain": [
              "<Figure size 800x600 with 2 Axes>"
            ],
            "image/png": "[encoded data removed]"
          },
          "metadata": {}
        }
      ]
    },
    {
      "cell_type": "markdown",
      "source": [
        "*Code Analysis*\n",
        "\n",
        "1. Data Loading: The MNIST digits dataset is loaded using load_digits(). The dataset is split into training and testing sets using train_test_split.\n",
        "2. Model Training: A LogisticRegression model is instantiated with the lbfgs solver suitable for multiclass problems. The model is trained on the training data.\n",
        "3. Predictions and Evaluation: The trained model predicts class labels for the test set. The overall accuracy and detailed classification metrics are printed.\n",
        "A confusion matrix visualizes the model's performance across different digit classes."
      ],
      "metadata": {
        "id": "Pl0wwxetHciE"
      }
    },
    {
      "cell_type": "code",
      "source": [
        "# Visualization of Multiclass Logistic Regression Performance on MNIST\n",
        "\n",
        "import matplotlib.pyplot as plt\n",
        "\n",
        "# Select a subset of test samples to visualize\n",
        "num_samples = 10\n",
        "plt.figure(figsize=(10, 4))\n",
        "for i in range(num_samples):\n",
        "    plt.subplot(2, 5, i+1)\n",
        "    plt.imshow(x_test[i].reshape(8, 8), cmap='gray')\n",
        "    plt.title(f\"True: {y_test[i]}\\nPred: {y_pred[i]}\")\n",
        "    plt.axis('off')\n",
        "plt.tight_layout()\n",
        "plt.show()"
      ],
      "metadata": {
        "colab": {
          "base_uri": "https://localhost:8080/",
          "height": 410
        },
        "id": "YKcI28pMLjUl",
        "outputId": "4b3dec92-e9de-4754-e36b-7cc6fabc7211"
      },
      "execution_count": 14,
      "outputs": [
        {
          "output_type": "display_data",
          "data": {
            "text/plain": [
              "<Figure size 1000x400 with 10 Axes>"
            ],
            "image/png": "[encoded data removed]"
          },
          "metadata": {}
        }
      ]
    },
    {
      "cell_type": "markdown",
      "source": [
        "**Example 3.4.4: Custom Logistic Regression Implementation**"
      ],
      "metadata": {
        "id": "ccSGNms3Hvo4"
      }
    },
    {
      "cell_type": "markdown",
      "source": [
        "**Example 3.4.4: Sigmoid and Cross-Entropy Loss**"
      ],
      "metadata": {
        "id": "vb5CzZrbIAm1"
      }
    },
    {
      "cell_type": "code",
      "source": [
        "# Sigmoid and Cross-Entropy Loss Implementation\n",
        "\n",
        "import numpy as np\n",
        "import matplotlib.pyplot as plt\n",
        "\n",
        "def sigmoid(z):\n",
        "    \"\"\"Compute the sigmoid function.\"\"\"\n",
        "    return 1 / (1 + np.exp(-z))\n",
        "\n",
        "def cross_entropy_loss(y, p):\n",
        "    \"\"\"Compute the cross-entropy loss.\"\"\"\n",
        "    # To prevent log(0), clip p to [1e-15, 1 - 1e-15]\n",
        "    p = np.clip(p, 1e-15, 1 - 1e-15)\n",
        "    return -np.mean(y * np.log(p) + (1 - y) * np.log(1 - p))\n"
      ],
      "metadata": {
        "id": "DnX3QheFIEke"
      },
      "execution_count": 3,
      "outputs": []
    },
    {
      "cell_type": "markdown",
      "source": [
        "**Example 3.4.4: Synthetic Dataset (Binary)**"
      ],
      "metadata": {
        "id": "4vaYioGPIIxT"
      }
    },
    {
      "cell_type": "code",
      "source": [
        "# Synthetic Dataset Generation\n",
        "\n",
        "np.random.seed(42)\n",
        "# Generate 100 samples with one feature\n",
        "x = np.random.rand(100, 1) * 10  # Features range from 0 to 10\n",
        "# Labels: 0 if x <= 5, 1 if x > 5\n",
        "y = (x.flatten() > 5).astype(int)"
      ],
      "metadata": {
        "id": "gBSWRPRSILw2"
      },
      "execution_count": 4,
      "outputs": []
    },
    {
      "cell_type": "markdown",
      "source": [
        "**Example 3.4.4: Model Parameters Initialization (Weights,Bias)**"
      ],
      "metadata": {
        "id": "uFLJ3IxkIWV9"
      }
    },
    {
      "cell_type": "code",
      "source": [
        "# Model Parameters Initialization\n",
        "\n",
        "weights = np.zeros(x.shape[1])  # Initialize weights to zero\n",
        "bias = 0.0\n",
        "learning_rate = 0.01\n",
        "epochs = 1000"
      ],
      "metadata": {
        "id": "mj3jByyOIh0t"
      },
      "execution_count": 6,
      "outputs": []
    },
    {
      "cell_type": "markdown",
      "source": [
        "**Example 3.4.4: Training Logistic Regression Using Gradient Descent**"
      ],
      "metadata": {
        "id": "sPsjPl7QG7Vx"
      }
    },
    {
      "cell_type": "code",
      "source": [
        "# Training Logistic Regression from Scratch\n",
        "\n",
        "for epoch in range(epochs):\n",
        "    # Linear combination\n",
        "    linear_model = np.dot(x, weights) + bias\n",
        "    # Prediction using sigmoid\n",
        "    predictions = sigmoid(linear_model)\n",
        "    # Compute loss\n",
        "    loss = cross_entropy_loss(y, predictions)\n",
        "\n",
        "    # Compute gradients\n",
        "    dw = np.dot(x.T, (predictions - y)) / y.size\n",
        "    db = np.sum(predictions - y) / y.size\n",
        "\n",
        "    # Update parameters\n",
        "    weights -= learning_rate * dw\n",
        "    bias -= learning_rate * db\n",
        "\n",
        "    # Print loss every 100 epochs\n",
        "    if (epoch+1) % 100 == 0:\n",
        "        print(f\"Epoch {epoch+1}: Loss = {loss:.4f}\")\n",
        "\n",
        "print(\"\\nTrained weights:\", weights)\n",
        "print(\"Trained bias:\", bias)"
      ],
      "metadata": {
        "colab": {
          "base_uri": "https://localhost:8080/"
        },
        "id": "vsE8XoQUIu0d",
        "outputId": "e4ce842c-df69-49ed-82bb-fb6ec914cc28"
      },
      "execution_count": 7,
      "outputs": [
        {
          "output_type": "stream",
          "name": "stdout",
          "text": [
            "Epoch 100: Loss = 0.5661\n",
            "Epoch 200: Loss = 0.5300\n",
            "Epoch 300: Loss = 0.4983\n",
            "Epoch 400: Loss = 0.4702\n",
            "Epoch 500: Loss = 0.4454\n",
            "Epoch 600: Loss = 0.4234\n",
            "Epoch 700: Loss = 0.4038\n",
            "Epoch 800: Loss = 0.3862\n",
            "Epoch 900: Loss = 0.3705\n",
            "Epoch 1000: Loss = 0.3562\n",
            "\n",
            "Trained weights: [0.42369853]\n",
            "Trained bias: -1.512430433211711\n"
          ]
        }
      ]
    },
    {
      "cell_type": "markdown",
      "source": [
        "**Example 3.4.4: Making Predictions**"
      ],
      "metadata": {
        "id": "KmPDF4HAImEW"
      }
    },
    {
      "cell_type": "code",
      "source": [
        "# Making Predictions with Trained Model\n",
        "\n",
        "# Compute predictions\n",
        "linear_model = np.dot(x, weights) + bias\n",
        "predictions = sigmoid(linear_model)\n",
        "# Classify as 1 if probability >= 0.5, else 0\n",
        "predicted_classes = (predictions >= 0.5).astype(int)\n",
        "\n",
        "# Compute accuracy\n",
        "accuracy = np.mean(predicted_classes == y)\n",
        "print(\"\\nAccuracy on training data:\", accuracy)\n",
        "\n",
        "# Confusion Matrix\n",
        "from sklearn.metrics import confusion_matrix\n",
        "\n",
        "cm = confusion_matrix(y, predicted_classes)\n",
        "plt.figure(figsize=(6, 4))\n",
        "plt.matshow(cm, cmap='coolwarm', fignum=1)\n",
        "plt.title(\"Confusion Matrix (Custom Logistic Regression)\")\n",
        "plt.colorbar()\n",
        "plt.xlabel(\"Predicted\")\n",
        "plt.ylabel(\"Actual\")\n",
        "plt.show()"
      ],
      "metadata": {
        "colab": {
          "base_uri": "https://localhost:8080/",
          "height": 453
        },
        "id": "4Fbf6_eGJCAY",
        "outputId": "6b86cfa1-ef8e-48ad-823c-63072584fd68"
      },
      "execution_count": 8,
      "outputs": [
        {
          "output_type": "stream",
          "name": "stdout",
          "text": [
            "\n",
            "Accuracy on training data: 0.89\n"
          ]
        },
        {
          "output_type": "display_data",
          "data": {
            "text/plain": [
              "<Figure size 600x400 with 2 Axes>"
            ],
            "image/png": "[encoded data removed]"
          },
          "metadata": {}
        }
      ]
    },
    {
      "cell_type": "markdown",
      "source": [
        "**Example 3.4.4: Visualizing the Logistic Regression Fit**"
      ],
      "metadata": {
        "id": "p15fKSnpImkx"
      }
    },
    {
      "cell_type": "code",
      "source": [
        "# Visualization of Logistic Regression Fit on Synthetic Data\n",
        "\n",
        "import numpy as np\n",
        "import matplotlib.pyplot as plt\n",
        "\n",
        "def sigmoid(t):\n",
        "    \"\"\"Compute the sigmoid function.\"\"\"\n",
        "    return 1 / (1 + np.exp(-t))\n",
        "\n",
        "# Assume these are obtained from your trained model\n",
        "weights = np.array([0.10474554])  # Shape: (1,)\n",
        "bias = -0.5498648250742807       # Scalar\n",
        "\n",
        "# Centralized Dataset: Binary classification example\n",
        "# Generating synthetic data\n",
        "np.random.seed(0)\n",
        "x = np.linspace(0, 10, 100).reshape(-1, 1)\n",
        "y = (x.flatten() > 5).astype(int)  # Labels: 0 if x <= 5, 1 if x > 5\n",
        "\n",
        "# Plotting\n",
        "plt.figure(figsize=(8, 6))\n",
        "plt.scatter(x[y == 0], y[y == 0], color='blue', label='Class 0')\n",
        "plt.scatter(x[y == 1], y[y == 1], color='red', label='Class 1')\n",
        "\n",
        "# Plot the sigmoid curve\n",
        "linear_model = np.dot(x, weights) + bias  # Shape: (100, 1)\n",
        "probabilities = sigmoid(linear_model)     # Shape: (100, 1)\n",
        "plt.plot(x, probabilities, color='green', label='Sigmoid Fit')\n",
        "\n",
        "# Compute and plot the decision boundary\n",
        "x_boundary = np.array([x.min(), x.max()])           # Shape: (2,)\n",
        "y_boundary = sigmoid(weights[0] * x_boundary + bias)  # Shape: (2,)\n",
        "plt.plot(x_boundary, y_boundary, color='black', linestyle='--', label='Decision Boundary')\n",
        "\n",
        "plt.xlabel('Feature x')\n",
        "plt.ylabel('Probability of y=1')\n",
        "plt.title('Logistic Regression Fit on Synthetic Data')\n",
        "plt.legend()\n",
        "plt.grid(True)\n",
        "plt.show()"
      ],
      "metadata": {
        "colab": {
          "base_uri": "https://localhost:8080/",
          "height": 564
        },
        "id": "wzXWb5sHK0mU",
        "outputId": "f1511a6d-787f-46b8-dcc5-5f6d875250ab"
      },
      "execution_count": 13,
      "outputs": [
        {
          "output_type": "display_data",
          "data": {
            "text/plain": [
              "<Figure size 800x600 with 1 Axes>"
            ],
            "image/png": "[encoded data removed]"
          },
          "metadata": {}
        }
      ]
    },
    {
      "cell_type": "markdown",
      "source": [
        "## Regularization"
      ],
      "metadata": {
        "id": "XSAlSX5TDCUH"
      }
    },
    {
      "cell_type": "markdown",
      "source": [
        "**Definition 3.4.7**\n",
        "\n",
        "Regularization techniques are employed to prevent overfitting by adding a penalty term to the loss function.\n",
        "\n",
        "1. L1 Regularization (Lasso): Adds the absolute value of coefficients as a penalty term:\n",
        " * $L(\\mathbf{\\alpha}) + \\lambda \\sum_{j=1}^{d} |\\alpha_j|$\n",
        "2. L2 Regularization (Ridge): Adds the squared value of coefficients as a penalty term:\n",
        " * $L(\\mathbf{\\alpha}) + \\frac{\\lambda}{2} \\sum_{j=1}^{d} \\alpha_j^2$"
      ],
      "metadata": {
        "id": "S1hK62D4Lwos"
      }
    },
    {
      "cell_type": "markdown",
      "source": [
        "**Example 3.4.5: Regularization Implementation**"
      ],
      "metadata": {
        "id": "5fbayiQUMOi6"
      }
    },
    {
      "cell_type": "code",
      "source": [
        "# Logistic Regression with L2 Regularization\n",
        "\n",
        "from sklearn.linear_model import LogisticRegression\n",
        "\n",
        "# Create Logistic Regression model with L2 regularization (default)\n",
        "model_l2 = LogisticRegression(solver='liblinear', penalty='l2', C=1.0, random_state=0)\n",
        "model_l2.fit(x, y)\n",
        "\n",
        "# Predictions and probabilities\n",
        "predicted_classes_l2 = model_l2.predict(x)\n",
        "predicted_probs_l2 = model_l2.predict_proba(x)\n",
        "accuracy_l2 = model_l2.score(x, y)\n",
        "\n",
        "# Print results\n",
        "print(\"L2 Regularization:\")\n",
        "print(\"Intercept:\", model_l2.intercept_)\n",
        "print(\"Coefficient:\", model_l2.coef_)\n",
        "print(\"Accuracy:\", accuracy_l2)"
      ],
      "metadata": {
        "colab": {
          "base_uri": "https://localhost:8080/"
        },
        "id": "ap_Qo139MYca",
        "outputId": "857ee1fb-9049-46f1-f64e-124f6b771c18"
      },
      "execution_count": 15,
      "outputs": [
        {
          "output_type": "stream",
          "name": "stdout",
          "text": [
            "L2 Regularization:\n",
            "Intercept: [-3.96861054]\n",
            "Coefficient: [[0.8648844]]\n",
            "Accuracy: 0.96\n"
          ]
        }
      ]
    },
    {
      "cell_type": "markdown",
      "source": [
        "## Multiclass Logistic Regression (Softmax)"
      ],
      "metadata": {
        "id": "TUgGQxinMLqk"
      }
    },
    {
      "cell_type": "markdown",
      "source": [
        "**Definition 3.4.8**\n",
        "\n",
        "For multiclass classification, the Softmax Regression generalizes logistic regression by modeling the probability distribution over multiple classes using the softmax function.\n",
        "* $P(y = i \\mid \\mathbf{x}) = \\frac{e^{\\mathbf{\\alpha}_i^T \\mathbf{x}}}{\\sum_{j=1}^{K} e^{\\mathbf{\\alpha}_j^T \\mathbf{x}}}$\n",
        "\n",
        "Where,\n",
        "* $K$ is the number of classes\n",
        "* $\\mathbf{\\alpha}_i$ are the coefficients for class $i$"
      ],
      "metadata": {
        "id": "EY5dwQBMMnUQ"
      }
    },
    {
      "cell_type": "markdown",
      "source": [
        "**Example 3.4.5: Softmax Implementation**"
      ],
      "metadata": {
        "id": "QQhaP3uUNBVD"
      }
    },
    {
      "cell_type": "code",
      "source": [
        "# Multiclass Logistic Regression using Softmax\n",
        "\n",
        "# The 'multi_class' parameter set to 'multinomial' and 'solver' to 'lbfgs' enable softmax\n",
        "logisticRegr = LogisticRegression(max_iter=1000, solver='lbfgs', multi_class='multinomial')\n",
        "logisticRegr.fit(x_train, y_train)\n",
        "\n",
        "# Predictions and performance\n",
        "y_pred_softmax = logisticRegr.predict(x_test)\n",
        "accuracy_softmax = logisticRegr.score(x_test, y_test)\n",
        "\n",
        "print(\"Multiclass Logistic Regression Accuracy on MNIST test set:\", accuracy_softmax)\n"
      ],
      "metadata": {
        "colab": {
          "base_uri": "https://localhost:8080/"
        },
        "id": "mB_Y2xrvNID7",
        "outputId": "17ae7074-cd9b-4966-f1ed-45b0d9f53b91"
      },
      "execution_count": 16,
      "outputs": [
        {
          "output_type": "stream",
          "name": "stderr",
          "text": [
            "/usr/local/lib/python3.10/dist-packages/sklearn/linear_model/_logistic.py:1247: FutureWarning: 'multi_class' was deprecated in version 1.5 and will be removed in 1.7. From then on, it will always use 'multinomial'. Leave it to its default value to avoid this warning.\n",
            "  warnings.warn(\n"
          ]
        },
        {
          "output_type": "stream",
          "name": "stdout",
          "text": [
            "Multiclass Logistic Regression Accuracy on MNIST test set: 0.975\n"
          ]
        }
      ]
    },
    {
      "cell_type": "markdown",
      "source": [
        "## Stochastic Gradient Descent"
      ],
      "metadata": {
        "id": "OmIO5bMbNRic"
      }
    },
    {
      "cell_type": "markdown",
      "source": [
        "**Definition 3.4.9**\n",
        "\n",
        "Stochastic Gradient Descent (SGD) updates the model coefficients using one sample at a time, which can lead to faster convergence on large datasets.\n",
        "\n",
        "Update Rule: $\\mathbf{\\alpha}_{t+1} = \\mathbf{\\alpha}_t - \\eta (y^{(i)} - \\hat{y}^{(i)}) \\mathbf{x}^{(i)}$\n",
        "\n",
        "Where,\n",
        "* $y^{(i)}$ is the true label for sample $i$\n",
        "* $\\hat{y}^{(i)}$ is the predicted probability for sample $i$\n",
        "* $\\eta$ is the learning rate"
      ],
      "metadata": {
        "id": "oMhM0dF2NUYL"
      }
    },
    {
      "cell_type": "code",
      "source": [
        "# Stochastic Gradient Descent Implementation\n",
        "\n",
        "def stochastic_gradient_descent(x, y, learning_rate=0.01, epochs=1000, tol=1e-6):\n",
        "    weights = np.zeros(x.shape[1])\n",
        "    bias = 0.0\n",
        "    n = x.shape[0]\n",
        "\n",
        "    for epoch in range(epochs):\n",
        "        loss = 0\n",
        "        for i in range(n):\n",
        "            linear_model = np.dot(x[i], weights) + bias\n",
        "            prediction = sigmoid(linear_model)\n",
        "            error = prediction - y[i]\n",
        "\n",
        "            # Update weights and bias\n",
        "            weights -= learning_rate * error * x[i]\n",
        "            bias -= learning_rate * error\n",
        "\n",
        "            # Accumulate loss\n",
        "            loss += cross_entropy_loss(y[i:i+1], prediction)\n",
        "\n",
        "        # Average loss\n",
        "        loss /= n\n",
        "\n",
        "        # Check for convergence\n",
        "        if loss < tol:\n",
        "            print(f\"SGD converged in {epoch+1} epochs.\")\n",
        "            break\n",
        "\n",
        "        # Print loss every 100 epochs\n",
        "        if (epoch+1) % 100 == 0:\n",
        "            print(f\"Epoch {epoch+1}: Loss = {loss:.4f}\")\n",
        "\n",
        "    return weights, bias\n",
        "\n",
        "# Perform Stochastic Gradient Descent on Synthetic Data\n",
        "weights_sgd, bias_sgd = stochastic_gradient_descent(x, y, learning_rate=0.01, epochs=1000)\n",
        "print(\"\\nTrained weights (SGD):\", weights_sgd)\n",
        "print(\"Trained bias (SGD):\", bias_sgd)\n",
        "\n",
        "# Predictions using SGD-trained model\n",
        "linear_model_sgd = np.dot(x, weights_sgd) + bias_sgd\n",
        "predictions_sgd = sigmoid(linear_model_sgd)\n",
        "predicted_classes_sgd = (predictions_sgd >= 0.5).astype(int)\n",
        "\n",
        "# Compute accuracy\n",
        "accuracy_sgd = np.mean(predicted_classes_sgd == y)\n",
        "print(\"SGD Accuracy on training data:\", accuracy_sgd)\n",
        "\n",
        "# Confusion Matrix\n",
        "cm_sgd = confusion_matrix(y, predicted_classes_sgd)\n",
        "plt.figure(figsize=(6, 4))\n",
        "plt.matshow(cm_sgd, cmap='coolwarm', fignum=1)\n",
        "plt.title(\"Confusion Matrix (SGD Logistic Regression)\")\n",
        "plt.colorbar()\n",
        "plt.xlabel(\"Predicted\")\n",
        "plt.ylabel(\"Actual\")\n",
        "plt.show()"
      ],
      "metadata": {
        "colab": {
          "base_uri": "https://localhost:8080/",
          "height": 670
        },
        "id": "vkfVXSMHNzoW",
        "outputId": "fbaa7f57-1889-41c5-8679-3cb5d2a4ac74"
      },
      "execution_count": 17,
      "outputs": [
        {
          "output_type": "stream",
          "name": "stdout",
          "text": [
            "Epoch 100: Loss = 0.1462\n",
            "Epoch 200: Loss = 0.1124\n",
            "Epoch 300: Loss = 0.0969\n",
            "Epoch 400: Loss = 0.0875\n",
            "Epoch 500: Loss = 0.0809\n",
            "Epoch 600: Loss = 0.0759\n",
            "Epoch 700: Loss = 0.0719\n",
            "Epoch 800: Loss = 0.0686\n",
            "Epoch 900: Loss = 0.0659\n",
            "Epoch 1000: Loss = 0.0636\n",
            "\n",
            "Trained weights (SGD): [2.67821922]\n",
            "Trained bias (SGD): -12.97120317359015\n",
            "SGD Accuracy on training data: 0.98\n"
          ]
        },
        {
          "output_type": "display_data",
          "data": {
            "text/plain": [
              "<Figure size 600x400 with 2 Axes>"
            ],
            "image/png": "[encoded data removed]"
          },
          "metadata": {}
        }
      ]
    }
  ]
}