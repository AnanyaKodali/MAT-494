{
  "nbformat": 4,
  "nbformat_minor": 0,
  "metadata": {
    "colab": {
      "provenance": []
    },
    "kernelspec": {
      "name": "python3",
      "display_name": "Python 3"
    },
    "language_info": {
      "name": "python"
    }
  },
  "cells": [
    {
      "cell_type": "code",
      "source": [],
      "metadata": {
        "id": "BAeQyOP4gT1U"
      },
      "execution_count": null,
      "outputs": []
    },
    {
      "cell_type": "markdown",
      "source": [
        "***1.2: ELEMENTS OF LINEAR ALGEBRA***"
      ],
      "metadata": {
        "id": "YrU7T7mj44Om"
      }
    },
    {
      "cell_type": "markdown",
      "source": [
        "###**1.2.1 Linear Spaces:**\n",
        "A linear space or vector space 𝑉 over a field 𝐹 (such as 𝑅 or 𝐶) is a set equipped with two operations: vector addition and scalar multiplication. For any vectors 𝑢, 𝑣 ∈ 𝑉 and any scalar 𝑐 ∈ 𝐹, the following properties must hold:\n",
        "* Closure under Addition: 𝑢 + 𝑣 ∈ 𝑉\n",
        "* Closure under Scalar Multiplication: 𝑐𝑢 ∈ 𝑉\n",
        "*Associativity of Addition: 𝑢+ (𝑣 + 𝑤)= (𝑢 + 𝑣) + 𝑤 for all 𝑢, 𝑣, 𝑤 ∈ 𝑉\n",
        "* Existence of Additive Identity: There exists a zero vector 0 ∈ 𝑉 such that 𝑢 + 0 = 𝑢 for all 𝑢 ∈ 𝑉\n",
        "* Existence of Additive Inverses: For each 𝑢 ∈ 𝑉, there exists a vector\n",
        "−𝑢 ∈ 𝑉 such that 𝑢 + (−𝑢) = 0\n",
        "* Distributivity of Scalar Multiplication over Vector Addition: 𝑐(𝑢 + 𝑣)= 𝑐𝑢+ 𝑐𝑣\n",
        "*Distributivity of Scalar Multiplication over Field Addition: (𝑐+ 𝑑)𝑢= 𝑐𝑢 + 𝑑𝑢 for all scalars 𝑐,𝑑 ∈ 𝐹\n",
        "* Associativity of Scalar Multiplication: 𝑐(𝑑𝑢)= (𝑐𝑑)𝑢\n",
        "* Existence of Multiplicative Identity: 1⋅ 𝑢 = 𝑢 for all 𝑢 ∈ 𝑉, where 1 is the multiplicative identity in 𝐹."
      ],
      "metadata": {
        "id": "KO_biG_v39JW"
      }
    }
  ]
}