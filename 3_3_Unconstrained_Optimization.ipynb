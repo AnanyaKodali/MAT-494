{
  "nbformat": 4,
  "nbformat_minor": 0,
  "metadata": {
    "colab": {
      "provenance": [],
      "authorship_tag": "ABX9TyMoRdURjkIxyLpUI9dLTrMQ",
      "include_colab_link": true
    },
    "kernelspec": {
      "name": "python3",
      "display_name": "Python 3"
    },
    "language_info": {
      "name": "python"
    }
  },
  "cells": [
    {
      "cell_type": "markdown",
      "metadata": {
        "id": "view-in-github",
        "colab_type": "text"
      },
      "source": [
        "<a href=\"https://colab.research.google.com/github/AnanyaKodali/MAT-494/blob/main/3_3_Unconstrained_Optimization.ipynb\" target=\"_parent\"><img src=\"https://colab.research.google.com/assets/colab-badge.svg\" alt=\"Open In Colab\"/></a>"
      ]
    },
    {
      "cell_type": "markdown",
      "source": [
        "#**3.3: Unconstrained Optimization**"
      ],
      "metadata": {
        "id": "JJzkKHTL0kxG"
      }
    },
    {
      "cell_type": "markdown",
      "source": [
        "**Definition 3.3.1**\n",
        "\n",
        "Unconstrained Optimization involves finding the minima or maxima of a function\n",
        "$𝑓(𝑥)$ over $\\mathbb{R}^d$ without any additional constraints. Formally, the goal is to solve:\n",
        "* $\\min_{\\mathbf{x} \\in \\mathbb{R}^d} f(\\mathbf{x}) \\quad \\text{or} \\quad \\max_{\\mathbf{x} \\in \\mathbb{R}^d} f(\\mathbf{x})$\n"
      ],
      "metadata": {
        "id": "p5cVq4rc0qrR"
      }
    },
    {
      "cell_type": "markdown",
      "source": [
        "**Objectives**\n",
        "1. Understand Necessary and Sufficient Conditions for Local Minimizers: Establish criteria that determine when a point is a local minimum.\n",
        "2. Explore Convexity and Global Minimizers: Understand how convexity ensures that local minimizers are also global minimizers.\n",
        "3. Implement Gradient Descent: Develop and apply gradient descent algorithms to find minima of functions."
      ],
      "metadata": {
        "id": "AFZiwBzb1HAC"
      }
    },
    {
      "cell_type": "markdown",
      "source": [
        "**Example 3.3.1: Centralized Dataset**\n",
        "\n",
        "For practical implementations across all subsections, we will analyze the following functions:\n",
        "1. Rosenbrock Function:\n",
        "  * $f(\\mathbf{x}) = 100(x_2 - x_1^2)^2 + (1 - x_1)^2$\n",
        "  * A non-convex function used as a performance test problem for optimization algorithms.\n",
        "\n",
        "2. Convex Quadratic Function:\n",
        "  * $f(\\mathbf{x}) = x_1^2 + x_2^2$\n",
        "  * A simple convex function with a global minimum at the origin.\n"
      ],
      "metadata": {
        "id": "PIGCpoK91Oeb"
      }
    },
    {
      "cell_type": "markdown",
      "source": [
        "##**3.3.1. Necessary and sufficient conditions of local minimizers**"
      ],
      "metadata": {
        "id": "EEtzdu571ruE"
      }
    },
    {
      "cell_type": "markdown",
      "source": [
        "**Definition 3.3.2**\n",
        "\n",
        "1. Local Minimizer:\n",
        "A point $\\mathbf{x}^* \\in \\mathbb{R}^d$ s a local minimizer of $f(x)$ if there exists a neighborhood $\\delta$ around $\\mathbf{x}^*$ such that:\n",
        " * $f(\\mathbf{x}^*) \\leq f(\\mathbf{x}) \\quad \\forall \\mathbf{x} \\in \\delta$\n",
        "\n",
        "2. Global Minimizer:\n",
        "A point $\\mathbf{x}^* \\in \\mathbb{R}^d$ s a global minimizer of $f(x)$ if:\n",
        " * $f(\\mathbf{x}^*) \\leq f(\\mathbf{x}) \\quad \\forall \\mathbf{x} \\in \\mathbb{R}^d$"
      ],
      "metadata": {
        "id": "i9Ak6HAy1zie"
      }
    },
    {
      "cell_type": "markdown",
      "source": [
        "**Definition 3.3.3**\n",
        "\n",
        "*Necessary Conditions*\n",
        "1. First-Order Necessary Condition: For $\\mathbf{x}^*$ to be a local minimizer, the gradient of $𝑓$ at $\\mathbf{x}^*$ must be zero:\n",
        " * $\\nabla f(\\mathbf{x}^*) = \\mathbf{0}$\n",
        "\n",
        "2. Second-Order Necessary Condition: If $𝑓$ is twice differentiable at $\\mathbf{x}^*$ the Hessian matrix $H(\\mathbf{x}^*)$ must be positive semi-definite (PSD):\n",
        " * $H(\\mathbf{x}^*) \\succeq \\mathbf{0}$\n",
        " * This ensures that $𝑓$ does not decrease in any direction around $\\mathbf{x}^*$\n",
        "\n",
        "*Sufficient Conditions*\n",
        "\n",
        "If both the first and second-order conditions are satisfied, with the Hessian being positive definite (PD), then $\\mathbf{x}^*$ is a strict local minimizer:\n",
        " * $\\nabla f(\\mathbf{x}^*) = \\mathbf{0} \\quad \\text{and} \\quad H(\\mathbf{x}^*) \\succ \\mathbf{0}$\n",
        "\n",
        "\n",
        "*Implications:*\n",
        " * First-Order Condition ensures no directional derivative is negative\n",
        " * Second-Order Condition confirms the curvature is upward in all directions, guaranteeing a minimum.\n",
        "\n"
      ],
      "metadata": {
        "id": "2XZXIl0O2d3Y"
      }
    },
    {
      "cell_type": "markdown",
      "source": [
        "**Example 3.3.2: Verifying Conditions Using the Rosenbrock Function**"
      ],
      "metadata": {
        "id": "Xh-bybX93-yH"
      }
    },
    {
      "cell_type": "code",
      "source": [
        "# Verifying Necessary and Sufficient Conditions for Local Minimizers\n",
        "\n",
        "import numpy as np\n",
        "from scipy.optimize import minimize\n",
        "\n",
        "# Define the Rosenbrock function\n",
        "def rosenbrock(x):\n",
        "    return 100 * (x[1] - x[0]**2)**2 + (1 - x[0])**2\n",
        "\n",
        "# Gradient of the Rosenbrock function\n",
        "def gradient_rosenbrock(x):\n",
        "    grad = np.zeros_like(x)\n",
        "    grad[0] = -400 * x[0] * (x[1] - x[0]**2) - 2 * (1 - x[0])\n",
        "    grad[1] = 200 * (x[1] - x[0]**2)\n",
        "    return grad\n",
        "\n",
        "# Hessian of the Rosenbrock function\n",
        "def hessian_rosenbrock(x):\n",
        "    hessian = np.zeros((2, 2))\n",
        "    hessian[0, 0] = 1200 * x[0]**2 - 400 * x[1] + 2\n",
        "    hessian[0, 1] = -400 * x[0]\n",
        "    hessian[1, 0] = -400 * x[0]\n",
        "    hessian[1, 1] = 200\n",
        "    return hessian\n",
        "\n",
        "# Perform minimization using BFGS method\n",
        "result = minimize(rosenbrock, [2.0, 2.0], method=\"BFGS\", jac=gradient_rosenbrock, options={\"disp\": True})\n",
        "\n",
        "# Extract the solution\n",
        "x_min = result.x\n",
        "f_min = rosenbrock(x_min)\n",
        "grad_min = gradient_rosenbrock(x_min)\n",
        "hessian_min = hessian_rosenbrock(x_min)\n",
        "\n",
        "print(\"\\nSolution:\")\n",
        "print(f\"  x* = {x_min}\")\n",
        "print(f\"  f(x*) = {f_min}\")\n",
        "print(f\"  Gradient at x*: {grad_min}\")\n",
        "print(f\"  Hessian at x*:\\n{hessian_min}\")\n",
        "\n",
        "# Check positive definiteness of Hessian\n",
        "def is_positive_definite(hessian):\n",
        "    return np.all(np.linalg.eigvals(hessian) > 0)\n",
        "\n",
        "print(f\"\\nIs Hessian positive definite at x*? {is_positive_definite(hessian_min)}\")\n"
      ],
      "metadata": {
        "colab": {
          "base_uri": "https://localhost:8080/"
        },
        "id": "BbDCuEcO4LdM",
        "outputId": "5d6c1952-2e11-4843-9498-6b0a91211acc"
      },
      "execution_count": 1,
      "outputs": [
        {
          "output_type": "stream",
          "name": "stdout",
          "text": [
            "Optimization terminated successfully.\n",
            "         Current function value: 0.000000\n",
            "         Iterations: 30\n",
            "         Function evaluations: 35\n",
            "         Gradient evaluations: 35\n",
            "\n",
            "Solution:\n",
            "  x* = [1.00000013 1.00000025]\n",
            "  f(x*) = 3.271435067604758e-14\n",
            "  Gradient at x*: [ 5.26067293e-06 -2.49959031e-06]\n",
            "  Hessian at x*:\n",
            "[[ 802.00021419 -400.0000523 ]\n",
            " [-400.0000523   200.        ]]\n",
            "\n",
            "Is Hessian positive definite at x*? True\n"
          ]
        }
      ]
    },
    {
      "cell_type": "markdown",
      "source": [
        "*Code Analysis*\n",
        "\n",
        "1. Optimization Result: The minimize function with the BFGS method converges to the global minimum at $\\mathbf{x}^* = [1, 1]$\n",
        "\n",
        "2. Gradient at $\\mathbf{x}^*$: The gradient is zero, satisfying the first-order necessary condition.\n",
        "\n",
        "3. Hessian at $\\mathbf{x}^*$: The eigenvalues of this Hessian are positive, confirming that it is positive definite, thereby satisfying the second-order sufficient condition.\n",
        "\n",
        "4. Positive Definiteness Check:The Hessian is confirmed to be positive definite, ensuring that $\\mathbf{x}^*$ is a strict local minimizer.\n",
        "\n"
      ],
      "metadata": {
        "id": "E3ZFVpeX4TNV"
      }
    },
    {
      "cell_type": "markdown",
      "source": [
        "##**3.3.2:  Convexity and global minimizers**"
      ],
      "metadata": {
        "id": "06dUdzSa5apm"
      }
    },
    {
      "cell_type": "markdown",
      "source": [
        "**Definition 3.3.4**\n",
        "1. Convex Set:\n",
        " * A set $S \\subseteq \\mathbb{R}^d$ is convex if for any two points $\\mathbf{x}, \\mathbf{y} \\in S$ and any $\\alpha \\in [0, 1]$:\n",
        "   * $\\alpha \\mathbf{x} + (1 - \\alpha) \\mathbf{y} \\in S$\n",
        "\n",
        "2. Convex Set:\n",
        " * A function $f: S \\to \\mathbb{R}$ where $S$ is a convex set, is convex if for any two points $\\mathbf{x}, \\mathbf{y} \\in S$ and any $\\alpha \\in [0, 1]$:\n",
        " * $f(\\alpha \\mathbf{x} + (1 - \\alpha) \\mathbf{y}) \\leq \\alpha f(\\mathbf{x}) + (1 - \\alpha) f(\\mathbf{y})$\n",
        ""
      ],
      "metadata": {
        "id": "1gl4P-oA5gT4"
      }
    },
    {
      "cell_type": "markdown",
      "source": [
        "**Definition 3.3.5**\n",
        "\n",
        "*Conditions for Convexity*\n",
        "1. First-Order Convexity Condition: For a differentiable function $f$, it is convex if:\n",
        " * $f(\\mathbf{y}) \\geq f(\\mathbf{x}) + \\nabla f(\\mathbf{x})^\\top (\\mathbf{y} - \\mathbf{x}) \\quad \\forall \\mathbf{x}, \\mathbf{y} \\in S$\n",
        "\n",
        "2. Second-Order Convexity Condition: For a twice-differentiable function $𝑓$, it is convex if its Hessian matrix $H(x)$ is positive semi-definite (PSD) for all $\\mathbf{x} \\in S$:\n",
        " * $H(\\mathbf{x}) \\succeq \\mathbf{0} \\quad \\forall \\mathbf{x} \\in S$\n"
      ],
      "metadata": {
        "id": "MlJXvgbS6bhS"
      }
    },
    {
      "cell_type": "markdown",
      "source": [
        "**Definition 3.3.6**\n",
        "\n",
        "*Global Minimizer*\n",
        "\n",
        "Convexity Guarantees Global Minimizers:\n",
        "* If $f$ is a convex function over a convex set $S$, then any local minimizer is also a global minimizer.\n",
        "* This property significantly simplifies optimization problems, ensuring that optimization algorithms converge to the global minimum.\n",
        "\n",
        "*Implications*\n",
        "* Convex functions have no local minima other than the global minimum, making optimization straightforward.\n",
        "* Convexity is a desirable property in optimization, especially in high-dimensional spaces."
      ],
      "metadata": {
        "id": "ZuBJNJD-7Bxz"
      }
    },
    {
      "cell_type": "markdown",
      "source": [
        "**Example 3.3.3: Demonstrating Convexity with a Convex Quadratic Function**\n",
        "\n",
        "Objective: Implement and visualize a convex quadratic function to illustrate convexity and confirm that any local minimizer is indeed a global minimizer.\n"
      ],
      "metadata": {
        "id": "hPTTScZL7eK3"
      }
    },
    {
      "cell_type": "code",
      "source": [
        "# Demonstrating Convexity with a Convex Quadratic Function\n",
        "\n",
        "import numpy as np\n",
        "import matplotlib.pyplot as plt\n",
        "\n",
        "# Define the convex quadratic function f(x, y) = x^2 + y^2\n",
        "def convex_function(x):\n",
        "    return x[0]**2 + x[1]**2\n",
        "\n",
        "# Gradient of the convex function\n",
        "def gradient_convex(x):\n",
        "    return 2 * x\n",
        "\n",
        "# Hessian of the convex function\n",
        "def hessian_convex(x):\n",
        "    return np.array([[2, 0],\n",
        "                     [0, 2]])\n",
        "\n",
        "# Verify convexity by checking positive semi-definiteness of Hessian\n",
        "def is_positive_semi_definite(hessian):\n",
        "    eigenvalues = np.linalg.eigvals(hessian)\n",
        "    return np.all(eigenvalues >= 0)\n",
        "\n",
        "# Example point\n",
        "x_example = np.array([1.0, 1.0])\n",
        "hessian_example = hessian_convex(x_example)\n",
        "print(f\"Hessian at {x_example}:\\n{hessian_example}\")\n",
        "print(f\"Is Hessian positive semi-definite? {is_positive_semi_definite(hessian_example)}\")\n",
        "\n",
        "# Visualize the convex function\n",
        "x_vals = np.linspace(-3, 3, 100)\n",
        "y_vals = np.linspace(-3, 3, 100)\n",
        "X, Y = np.meshgrid(x_vals, y_vals)\n",
        "Z = X**2 + Y**2\n",
        "\n",
        "plt.figure(figsize=(8, 6))\n",
        "contour = plt.contourf(X, Y, Z, levels=50, cmap=\"viridis\")\n",
        "plt.colorbar(contour, label=\"f(x, y)\")\n",
        "plt.title(\"Contour Plot of Convex Function f(x, y) = x² + y²\")\n",
        "plt.xlabel(\"x\")\n",
        "plt.ylabel(\"y\")\n",
        "plt.scatter(0, 0, color='red', label=\"Global Minimizer (0,0)\")\n",
        "plt.legend()\n",
        "plt.show()"
      ],
      "metadata": {
        "colab": {
          "base_uri": "https://localhost:8080/",
          "height": 636
        },
        "id": "ag9bv9YG7tpQ",
        "outputId": "faa40d5a-af0e-473a-eab9-0baadd300efa"
      },
      "execution_count": 2,
      "outputs": [
        {
          "output_type": "stream",
          "name": "stdout",
          "text": [
            "Hessian at [1. 1.]:\n",
            "[[2 0]\n",
            " [0 2]]\n",
            "Is Hessian positive semi-definite? True\n"
          ]
        },
        {
          "output_type": "display_data",
          "data": {
            "text/plain": [
              "<Figure size 800x600 with 2 Axes>"
            ],
            "image/png": "[encoded data removed]"
          },
          "metadata": {}
        }
      ]
    },
    {
      "cell_type": "markdown",
      "source": [
        "*Code Analysis*\n",
        "\n",
        "1. Hessian Matrix Check: The eigenvalues are both 2, which are positive, confirming that the Hessian is positive definite and thus the function is convex.\n",
        "2. Visualisation: The contour plot illustrates concentric circles centered at the origin, depicting the convexity of the function. The global minimizer at\n",
        "$(0,0)$ is clearly identifiable."
      ],
      "metadata": {
        "id": "2kv63yOw7zRi"
      }
    },
    {
      "cell_type": "markdown",
      "source": [
        "##**3.3.3: Gradient Descent**"
      ],
      "metadata": {
        "id": "xukbs5q28JoJ"
      }
    },
    {
      "cell_type": "markdown",
      "source": [
        "**Definition 3.3.7**\n",
        "\n",
        "Gradient Descent is an iterative optimization algorithm used to minimize functions by moving in the direction of the steepest descent, as defined by the negative of the gradient.\n",
        "\n",
        "Algorithm: $\\mathbf{x}_{k+1} = \\mathbf{x}_k - \\alpha \\nabla f(\\mathbf{x}_k)$\n",
        "\n",
        "Where,\n",
        "* $\\mathbf{x}_k$ is the current point\n",
        "* $\\alpha$ is the learning rate\n",
        "* $\\nabla f(\\mathbf{x}_k)$ is the gradient of $f$ at $\\mathbf{x}_k$\n"
      ],
      "metadata": {
        "id": "_mNINgsK8P3h"
      }
    },
    {
      "cell_type": "markdown",
      "source": [
        "**Definition 3.3.8**\n",
        "\n",
        "*Variants:*\n",
        "\n",
        "1. Steepest Descent: Dynamically adjusts the step size $α$ to ensure optimal convergence.\n",
        "2. Momentum: Incorporates a velocity term to accelerate convergence, especially in ravine-like terrains.\n",
        "3. Newton’s Method: Utilizes second-order information (Hessian) to achieve faster convergence:\n",
        " * $\\mathbf{x}_{k+1} = \\mathbf{x}_k - H^{-1}(\\mathbf{x}_k) \\nabla f(\\mathbf{x}_k)$\n",
        "\n",
        "*Convergence Criteria*\n",
        "* The algorithm stops when the change in $x$ between iterations is below a predefined threshold (tolerance).\n",
        "* Alternatively, when the norm of the gradient is below a threshold, indicating proximity to a local minimum."
      ],
      "metadata": {
        "id": "cjQCQfAl80hj"
      }
    },
    {
      "cell_type": "markdown",
      "source": [
        "**Example 3.3.4: Implementing Gradient Descent from Scratch**\n",
        "\n",
        "Objective: Implement the Gradient Descent algorithm to minimize the Rosenbrock function.\n"
      ],
      "metadata": {
        "id": "HE0aKfWW9WBk"
      }
    },
    {
      "cell_type": "code",
      "source": [
        "# Implementing Gradient Descent from Scratch\n",
        "\n",
        "import numpy as np\n",
        "\n",
        "# Define the Rosenbrock function\n",
        "def rosenbrock(x):\n",
        "    return 100 * (x[1] - x[0]**2)**2 + (1 - x[0])**2\n",
        "\n",
        "# Gradient of the Rosenbrock function\n",
        "def gradient_rosenbrock(x):\n",
        "    grad = np.zeros_like(x)\n",
        "    grad[0] = -400 * x[0] * (x[1] - x[0]**2) - 2 * (1 - x[0])\n",
        "    grad[1] = 200 * (x[1] - x[0]**2)\n",
        "    return grad\n",
        "\n",
        "# Gradient Descent Implementation\n",
        "def gradient_descent(func, grad, x0, learning_rate=0.001, tol=1e-6, max_iters=100000):\n",
        "    x = np.array(x0, dtype=float)\n",
        "    for i in range(max_iters):\n",
        "        grad_val = grad(x)\n",
        "        x_new = x - learning_rate * grad_val\n",
        "        # Check for convergence\n",
        "        if np.linalg.norm(x_new - x) < tol:\n",
        "            print(f\"Converged in {i+1} iterations.\")\n",
        "            return x_new\n",
        "        x = x_new\n",
        "    print(\"Maximum iterations reached without convergence.\")\n",
        "    return x\n",
        "\n",
        "# Initial guess\n",
        "x_initial = [2.0, 2.0]\n",
        "\n",
        "# Perform Gradient Descent\n",
        "x_min_gd = gradient_descent(rosenbrock, gradient_rosenbrock, x_initial, learning_rate=0.001)\n",
        "print(f\"Minimum found at: {x_min_gd}\")\n",
        "print(f\"Function value at minimum: {rosenbrock(x_min_gd)}\")"
      ],
      "metadata": {
        "colab": {
          "base_uri": "https://localhost:8080/"
        },
        "id": "LOaHF7EL9igo",
        "outputId": "e1d43277-0659-43cc-d64e-17e4c20e37b0"
      },
      "execution_count": 5,
      "outputs": [
        {
          "output_type": "stream",
          "name": "stdout",
          "text": [
            "Converged in 14974 iterations.\n",
            "Minimum found at: [1.00111818 1.00224209]\n",
            "Function value at minimum: 1.2523298786451772e-06\n"
          ]
        }
      ]
    },
    {
      "cell_type": "markdown",
      "source": [
        "*Code Analysis*\n",
        "1. Initialization: Start from $\\mathbf{x}_0 = [2.0, 2.0]$\n",
        "2. Iterations: The algorithm iteratively updates\n",
        " $x$ by moving against the gradient. Convergence is checked by the norm of the change in$x$\n",
        "3. Result: The algoritm converges to $\\mathbf{x}^* = [1.0, 1.0]$ the global minimum of the Rosenbrock function. Function value at minimum is $f(\\mathbf{x}^*) = 0$"
      ],
      "metadata": {
        "id": "T-Kw1e-C9nx4"
      }
    },
    {
      "cell_type": "markdown",
      "source": [
        "**Example 3.3.5: Gradient Descent with Line Search**\n",
        "\n",
        "Objective: Implement a Line Search method to dynamically adjust the learning rate $α$ for optimal convergence.\n"
      ],
      "metadata": {
        "id": "IUHtqYhY-e8N"
      }
    },
    {
      "cell_type": "code",
      "source": [
        "# Gradient Descent with Line Search\n",
        "\n",
        "from scipy.optimize import line_search\n",
        "\n",
        "def line_search_gradient_descent(func, grad, x0, tol=1e-6, max_iters=10000):\n",
        "    x = np.array(x0, dtype=float)\n",
        "    for i in range(max_iters):\n",
        "        grad_val = grad(x)\n",
        "        # Perform line search to find optimal step size\n",
        "        alpha = line_search(func, grad, x, -grad_val)[0]\n",
        "        if alpha is None:\n",
        "            alpha = 1e-4  # Fallback step size\n",
        "        x_new = x - alpha * grad_val\n",
        "        # Check for convergence\n",
        "        if np.linalg.norm(x_new - x) < tol:\n",
        "            print(f\"Converged in {i+1} iterations with line search.\")\n",
        "            return x_new\n",
        "        x = x_new\n",
        "    print(\"Maximum iterations reached without convergence.\")\n",
        "    return x\n",
        "\n",
        "# Perform Gradient Descent with Line Search\n",
        "x_min_ls = line_search_gradient_descent(rosenbrock, gradient_rosenbrock, x_initial)\n",
        "print(f\"Minimum found at (with line search): {x_min_ls}\")\n",
        "print(f\"Function value at minimum (with line search): {rosenbrock(x_min_ls)}\")"
      ],
      "metadata": {
        "colab": {
          "base_uri": "https://localhost:8080/"
        },
        "id": "R2_cA8j8-rDD",
        "outputId": "d32ee8f6-1827-4aed-deb4-4e11864081f9"
      },
      "execution_count": 6,
      "outputs": [
        {
          "output_type": "stream",
          "name": "stdout",
          "text": [
            "Converged in 8912 iterations with line search.\n",
            "Minimum found at (with line search): [1.00040654 1.00081564]\n",
            "Function value at minimum (with line search): 1.658492777062581e-07\n"
          ]
        }
      ]
    },
    {
      "cell_type": "markdown",
      "source": [
        "*Code Analysis*\n",
        "1. Line Search Integration: The line_search function from scipy.optimize is used to determine the optimal step size $α$ at each iteration. If line_search fails to find a suitable $α$, a fallback step size is used.\n",
        "2. Result: The algorithm converges more efficiently compared to the fixed learning rate approach."
      ],
      "metadata": {
        "id": "lW1jjVuk-wjn"
      }
    }
  ]
}